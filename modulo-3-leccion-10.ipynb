{
 "cells": [
  {
   "cell_type": "code",
   "execution_count": 1,
   "metadata": {},
   "outputs": [],
   "source": [
    "import pandas as pd\n",
    "import numpy as np\n",
    "import io\n",
    "pd.set_option('display.max_columns', None)"
   ]
  },
  {
   "cell_type": "code",
   "execution_count": 2,
   "metadata": {},
   "outputs": [
    {
     "data": {
      "text/html": [
       "<div>\n",
       "<style scoped>\n",
       "    .dataframe tbody tr th:only-of-type {\n",
       "        vertical-align: middle;\n",
       "    }\n",
       "\n",
       "    .dataframe tbody tr th {\n",
       "        vertical-align: top;\n",
       "    }\n",
       "\n",
       "    .dataframe thead th {\n",
       "        text-align: right;\n",
       "    }\n",
       "</style>\n",
       "<table border=\"1\" class=\"dataframe\">\n",
       "  <thead>\n",
       "    <tr style=\"text-align: right;\">\n",
       "      <th></th>\n",
       "      <th>first_name</th>\n",
       "      <th>last_name</th>\n",
       "      <th>email</th>\n",
       "      <th>gender</th>\n",
       "      <th>City</th>\n",
       "      <th>Country</th>\n",
       "      <th>Address</th>\n",
       "    </tr>\n",
       "    <tr>\n",
       "      <th>id</th>\n",
       "      <th></th>\n",
       "      <th></th>\n",
       "      <th></th>\n",
       "      <th></th>\n",
       "      <th></th>\n",
       "      <th></th>\n",
       "      <th></th>\n",
       "    </tr>\n",
       "  </thead>\n",
       "  <tbody>\n",
       "    <tr>\n",
       "      <th>1</th>\n",
       "      <td>Cheri</td>\n",
       "      <td>Dunsmore</td>\n",
       "      <td>cdunsmore0@instagram.com</td>\n",
       "      <td>Female</td>\n",
       "      <td>Palma De Mallorca</td>\n",
       "      <td>Spain</td>\n",
       "      <td>076 Rockefeller Crossing</td>\n",
       "    </tr>\n",
       "    <tr>\n",
       "      <th>2</th>\n",
       "      <td>Hunt</td>\n",
       "      <td>Bartomeu</td>\n",
       "      <td>hbartomeu1@nsw.gov.au</td>\n",
       "      <td>Male</td>\n",
       "      <td>Lugo</td>\n",
       "      <td>Spain</td>\n",
       "      <td>0046 Utah Junction</td>\n",
       "    </tr>\n",
       "  </tbody>\n",
       "</table>\n",
       "</div>"
      ],
      "text/plain": [
       "   first_name last_name                     email  gender               City  \\\n",
       "id                                                                             \n",
       "1       Cheri  Dunsmore  cdunsmore0@instagram.com  Female  Palma De Mallorca   \n",
       "2        Hunt  Bartomeu     hbartomeu1@nsw.gov.au    Male               Lugo   \n",
       "\n",
       "   Country                   Address  \n",
       "id                                    \n",
       "1    Spain  076 Rockefeller Crossing  \n",
       "2    Spain        0046 Utah Junction  "
      ]
     },
     "execution_count": 2,
     "metadata": {},
     "output_type": "execute_result"
    }
   ],
   "source": [
    "df_clientes = pd.read_csv(\"files/clientes.csv\", index_col=0)\n",
    "\n",
    "df_clientes.head(2)"
   ]
  },
  {
   "cell_type": "code",
   "execution_count": 3,
   "metadata": {},
   "outputs": [
    {
     "data": {
      "text/html": [
       "<div>\n",
       "<style scoped>\n",
       "    .dataframe tbody tr th:only-of-type {\n",
       "        vertical-align: middle;\n",
       "    }\n",
       "\n",
       "    .dataframe tbody tr th {\n",
       "        vertical-align: top;\n",
       "    }\n",
       "\n",
       "    .dataframe thead th {\n",
       "        text-align: right;\n",
       "    }\n",
       "</style>\n",
       "<table border=\"1\" class=\"dataframe\">\n",
       "  <thead>\n",
       "    <tr style=\"text-align: right;\">\n",
       "      <th></th>\n",
       "      <th>Nombre_Producto</th>\n",
       "      <th>Categoría</th>\n",
       "      <th>Precio</th>\n",
       "      <th>Origen</th>\n",
       "      <th>Descripción</th>\n",
       "      <th>Descripción_2</th>\n",
       "      <th>Descripción_3</th>\n",
       "      <th>Descripción_4</th>\n",
       "      <th>Descripción_5</th>\n",
       "    </tr>\n",
       "    <tr>\n",
       "      <th>ID</th>\n",
       "      <th></th>\n",
       "      <th></th>\n",
       "      <th></th>\n",
       "      <th></th>\n",
       "      <th></th>\n",
       "      <th></th>\n",
       "      <th></th>\n",
       "      <th></th>\n",
       "      <th></th>\n",
       "    </tr>\n",
       "  </thead>\n",
       "  <tbody>\n",
       "    <tr>\n",
       "      <th>A1</th>\n",
       "      <td>Pizza Margherita</td>\n",
       "      <td>Platos Preparados</td>\n",
       "      <td>8.99</td>\n",
       "      <td>Italia</td>\n",
       "      <td>Clásica pizza italiana con tomate</td>\n",
       "      <td>mozzarella fresca y albahaca.</td>\n",
       "      <td>NaN</td>\n",
       "      <td>NaN</td>\n",
       "      <td>NaN</td>\n",
       "    </tr>\n",
       "    <tr>\n",
       "      <th>B2</th>\n",
       "      <td>Risotto de Champiñones</td>\n",
       "      <td>Platos Preparados</td>\n",
       "      <td>6.75</td>\n",
       "      <td>Italia</td>\n",
       "      <td>Risotto cremoso con champiñones frescos</td>\n",
       "      <td>una delicia italiana para disfrutar en casa.</td>\n",
       "      <td>NaN</td>\n",
       "      <td>NaN</td>\n",
       "      <td>NaN</td>\n",
       "    </tr>\n",
       "  </tbody>\n",
       "</table>\n",
       "</div>"
      ],
      "text/plain": [
       "           Nombre_Producto          Categoría  Precio  Origen  \\\n",
       "ID                                                              \n",
       "A1        Pizza Margherita  Platos Preparados    8.99  Italia   \n",
       "B2  Risotto de Champiñones  Platos Preparados    6.75  Italia   \n",
       "\n",
       "                                Descripción  \\\n",
       "ID                                            \n",
       "A1        Clásica pizza italiana con tomate   \n",
       "B2  Risotto cremoso con champiñones frescos   \n",
       "\n",
       "                                    Descripción_2  Descripción_3  \\\n",
       "ID                                                                 \n",
       "A1                  mozzarella fresca y albahaca.            NaN   \n",
       "B2   una delicia italiana para disfrutar en casa.            NaN   \n",
       "\n",
       "    Descripción_4  Descripción_5  \n",
       "ID                                \n",
       "A1            NaN            NaN  \n",
       "B2            NaN            NaN  "
      ]
     },
     "execution_count": 3,
     "metadata": {},
     "output_type": "execute_result"
    }
   ],
   "source": [
    "df_productos = pd.read_csv(\"files/productos.csv\", index_col=0)\n",
    "\n",
    "df_productos.head(2)"
   ]
  },
  {
   "cell_type": "code",
   "execution_count": 4,
   "metadata": {},
   "outputs": [],
   "source": [
    "df_productos[\"Descripción\"] = df_productos[['Descripción',' Descripción_2', ' Descripción_3', ' Descripción_4', ' Descripción_5']].apply(list, axis=1)"
   ]
  },
  {
   "cell_type": "code",
   "execution_count": 5,
   "metadata": {},
   "outputs": [],
   "source": [
    "df_productos.drop([' Descripción_2', ' Descripción_3', ' Descripción_4', ' Descripción_5'], axis=1, inplace=True) #Esto mete en la lista también los nan, habría que mirarlo "
   ]
  },
  {
   "cell_type": "code",
   "execution_count": 6,
   "metadata": {},
   "outputs": [
    {
     "data": {
      "text/html": [
       "<div>\n",
       "<style scoped>\n",
       "    .dataframe tbody tr th:only-of-type {\n",
       "        vertical-align: middle;\n",
       "    }\n",
       "\n",
       "    .dataframe tbody tr th {\n",
       "        vertical-align: top;\n",
       "    }\n",
       "\n",
       "    .dataframe thead th {\n",
       "        text-align: right;\n",
       "    }\n",
       "</style>\n",
       "<table border=\"1\" class=\"dataframe\">\n",
       "  <thead>\n",
       "    <tr style=\"text-align: right;\">\n",
       "      <th></th>\n",
       "      <th>ID_Producto</th>\n",
       "      <th>Fecha_Venta</th>\n",
       "      <th>Cantidad</th>\n",
       "      <th>Total</th>\n",
       "    </tr>\n",
       "    <tr>\n",
       "      <th>ID_Cliente</th>\n",
       "      <th></th>\n",
       "      <th></th>\n",
       "      <th></th>\n",
       "      <th></th>\n",
       "    </tr>\n",
       "  </thead>\n",
       "  <tbody>\n",
       "    <tr>\n",
       "      <th>723</th>\n",
       "      <td>A1</td>\n",
       "      <td>2023-11-22</td>\n",
       "      <td>2</td>\n",
       "      <td>17.98</td>\n",
       "    </tr>\n",
       "    <tr>\n",
       "      <th>498</th>\n",
       "      <td>C3</td>\n",
       "      <td>2023-11-21</td>\n",
       "      <td>1</td>\n",
       "      <td>5.49</td>\n",
       "    </tr>\n",
       "  </tbody>\n",
       "</table>\n",
       "</div>"
      ],
      "text/plain": [
       "           ID_Producto Fecha_Venta  Cantidad  Total\n",
       "ID_Cliente                                         \n",
       "723                 A1  2023-11-22         2  17.98\n",
       "498                 C3  2023-11-21         1   5.49"
      ]
     },
     "execution_count": 6,
     "metadata": {},
     "output_type": "execute_result"
    }
   ],
   "source": [
    "df_ventas = pd.read_csv(\"files/ventas.csv\", index_col=0)\n",
    "\n",
    "df_ventas.head(2)"
   ]
  },
  {
   "cell_type": "markdown",
   "metadata": {},
   "source": [
    "# Exploración"
   ]
  },
  {
   "cell_type": "code",
   "execution_count": 7,
   "metadata": {},
   "outputs": [
    {
     "data": {
      "text/plain": [
       "(1000, 7)"
      ]
     },
     "execution_count": 7,
     "metadata": {},
     "output_type": "execute_result"
    }
   ],
   "source": [
    "df_clientes.shape"
   ]
  },
  {
   "cell_type": "code",
   "execution_count": 8,
   "metadata": {},
   "outputs": [
    {
     "data": {
      "text/plain": [
       "(33, 5)"
      ]
     },
     "execution_count": 8,
     "metadata": {},
     "output_type": "execute_result"
    }
   ],
   "source": [
    "df_productos.shape"
   ]
  },
  {
   "cell_type": "code",
   "execution_count": 9,
   "metadata": {},
   "outputs": [
    {
     "data": {
      "text/plain": [
       "(100, 4)"
      ]
     },
     "execution_count": 9,
     "metadata": {},
     "output_type": "execute_result"
    }
   ],
   "source": [
    "df_ventas.shape"
   ]
  },
  {
   "cell_type": "markdown",
   "metadata": {},
   "source": [
    "- Las ventas tienen el ID_producto que es el index de productos. El index de clientes es el mismo que el de ventas (ID_Cliente)\n",
    "\n",
    "- Hay 1000 clientes, 4 ventas y 33 productos"
   ]
  },
  {
   "cell_type": "markdown",
   "metadata": {},
   "source": [
    "# Limpieza"
   ]
  },
  {
   "cell_type": "markdown",
   "metadata": {},
   "source": [
    "## Clientes"
   ]
  },
  {
   "cell_type": "code",
   "execution_count": 10,
   "metadata": {},
   "outputs": [
    {
     "data": {
      "text/html": [
       "<div>\n",
       "<style scoped>\n",
       "    .dataframe tbody tr th:only-of-type {\n",
       "        vertical-align: middle;\n",
       "    }\n",
       "\n",
       "    .dataframe tbody tr th {\n",
       "        vertical-align: top;\n",
       "    }\n",
       "\n",
       "    .dataframe thead th {\n",
       "        text-align: right;\n",
       "    }\n",
       "</style>\n",
       "<table border=\"1\" class=\"dataframe\">\n",
       "  <thead>\n",
       "    <tr style=\"text-align: right;\">\n",
       "      <th></th>\n",
       "      <th>first_name</th>\n",
       "      <th>last_name</th>\n",
       "      <th>email</th>\n",
       "      <th>gender</th>\n",
       "      <th>City</th>\n",
       "      <th>Country</th>\n",
       "      <th>Address</th>\n",
       "    </tr>\n",
       "    <tr>\n",
       "      <th>id</th>\n",
       "      <th></th>\n",
       "      <th></th>\n",
       "      <th></th>\n",
       "      <th></th>\n",
       "      <th></th>\n",
       "      <th></th>\n",
       "      <th></th>\n",
       "    </tr>\n",
       "  </thead>\n",
       "  <tbody>\n",
       "    <tr>\n",
       "      <th>1</th>\n",
       "      <td>Cheri</td>\n",
       "      <td>Dunsmore</td>\n",
       "      <td>cdunsmore0@instagram.com</td>\n",
       "      <td>Female</td>\n",
       "      <td>Palma De Mallorca</td>\n",
       "      <td>Spain</td>\n",
       "      <td>076 Rockefeller Crossing</td>\n",
       "    </tr>\n",
       "    <tr>\n",
       "      <th>2</th>\n",
       "      <td>Hunt</td>\n",
       "      <td>Bartomeu</td>\n",
       "      <td>hbartomeu1@nsw.gov.au</td>\n",
       "      <td>Male</td>\n",
       "      <td>Lugo</td>\n",
       "      <td>Spain</td>\n",
       "      <td>0046 Utah Junction</td>\n",
       "    </tr>\n",
       "    <tr>\n",
       "      <th>3</th>\n",
       "      <td>Michaeline</td>\n",
       "      <td>Paynton</td>\n",
       "      <td>mpaynton2@narod.ru</td>\n",
       "      <td>Female</td>\n",
       "      <td>NaN</td>\n",
       "      <td>Spain</td>\n",
       "      <td>0 Corry Crossing</td>\n",
       "    </tr>\n",
       "    <tr>\n",
       "      <th>4</th>\n",
       "      <td>Filmer</td>\n",
       "      <td>Eirwin</td>\n",
       "      <td>feirwin3@intel.com</td>\n",
       "      <td>NaN</td>\n",
       "      <td>Leon</td>\n",
       "      <td>Spain</td>\n",
       "      <td>5 American Ash Road</td>\n",
       "    </tr>\n",
       "    <tr>\n",
       "      <th>5</th>\n",
       "      <td>Tanhya</td>\n",
       "      <td>Lubbock</td>\n",
       "      <td>tlubbock4@huffingtonpost.com</td>\n",
       "      <td>Female</td>\n",
       "      <td>Hospitalet De Llobregat, L'</td>\n",
       "      <td>Spain</td>\n",
       "      <td>9289 Merry Circle</td>\n",
       "    </tr>\n",
       "  </tbody>\n",
       "</table>\n",
       "</div>"
      ],
      "text/plain": [
       "    first_name last_name                         email  gender  \\\n",
       "id                                                               \n",
       "1        Cheri  Dunsmore      cdunsmore0@instagram.com  Female   \n",
       "2         Hunt  Bartomeu         hbartomeu1@nsw.gov.au    Male   \n",
       "3   Michaeline   Paynton            mpaynton2@narod.ru  Female   \n",
       "4       Filmer    Eirwin            feirwin3@intel.com     NaN   \n",
       "5       Tanhya   Lubbock  tlubbock4@huffingtonpost.com  Female   \n",
       "\n",
       "                           City Country                   Address  \n",
       "id                                                                 \n",
       "1             Palma De Mallorca   Spain  076 Rockefeller Crossing  \n",
       "2                          Lugo   Spain        0046 Utah Junction  \n",
       "3                           NaN   Spain          0 Corry Crossing  \n",
       "4                          Leon   Spain       5 American Ash Road  \n",
       "5   Hospitalet De Llobregat, L'   Spain         9289 Merry Circle  "
      ]
     },
     "execution_count": 10,
     "metadata": {},
     "output_type": "execute_result"
    }
   ],
   "source": [
    "df_clientes.head(5)"
   ]
  },
  {
   "cell_type": "code",
   "execution_count": 11,
   "metadata": {},
   "outputs": [],
   "source": [
    "df_clientes.columns = df_clientes.columns.str.lower()"
   ]
  },
  {
   "cell_type": "code",
   "execution_count": 12,
   "metadata": {},
   "outputs": [
    {
     "name": "stdout",
     "output_type": "stream",
     "text": [
      "La columna first_name tiene 0 nulos\n",
      "La columna last_name tiene 0 nulos\n",
      "La columna email tiene 27 nulos\n",
      "La columna gender tiene 77 nulos\n",
      "La columna city tiene 124 nulos\n",
      "La columna country tiene 154 nulos\n",
      "La columna address tiene 41 nulos\n"
     ]
    }
   ],
   "source": [
    "for col in df_clientes.columns:\n",
    "    print(f\"La columna {col} tiene {df_clientes[col].isna().sum()} nulos\")"
   ]
  },
  {
   "cell_type": "code",
   "execution_count": 13,
   "metadata": {},
   "outputs": [],
   "source": [
    "df_clientes[\"email\"] = df_clientes[\"email\"].fillna(\"Unknown\")"
   ]
  },
  {
   "cell_type": "code",
   "execution_count": 14,
   "metadata": {},
   "outputs": [
    {
     "data": {
      "text/plain": [
       "0"
      ]
     },
     "execution_count": 14,
     "metadata": {},
     "output_type": "execute_result"
    }
   ],
   "source": [
    "df_clientes[\"email\"].isna().sum()"
   ]
  },
  {
   "cell_type": "code",
   "execution_count": 15,
   "metadata": {},
   "outputs": [],
   "source": [
    "df_clientes[\"gender\"] = df_clientes[\"gender\"].fillna(\"Other / Prefer not to say\")"
   ]
  },
  {
   "cell_type": "code",
   "execution_count": 16,
   "metadata": {},
   "outputs": [
    {
     "data": {
      "text/plain": [
       "0"
      ]
     },
     "execution_count": 16,
     "metadata": {},
     "output_type": "execute_result"
    }
   ],
   "source": [
    "df_clientes[\"gender\"].isna().sum()"
   ]
  },
  {
   "cell_type": "code",
   "execution_count": 17,
   "metadata": {},
   "outputs": [],
   "source": [
    "df_clientes[\"country\"] = df_clientes[\"country\"].fillna(\"Spain\")"
   ]
  },
  {
   "cell_type": "code",
   "execution_count": 18,
   "metadata": {},
   "outputs": [],
   "source": [
    "df_clientes[\"city\"] = df_clientes[\"city\"].fillna(\"Unknown\")"
   ]
  },
  {
   "cell_type": "code",
   "execution_count": 19,
   "metadata": {},
   "outputs": [],
   "source": [
    "df_clientes[\"address\"] = df_clientes[\"address\"].fillna(\"Unknown\")"
   ]
  },
  {
   "cell_type": "code",
   "execution_count": 20,
   "metadata": {},
   "outputs": [
    {
     "name": "stdout",
     "output_type": "stream",
     "text": [
      "La columna first_name tiene 0 nulos\n",
      "La columna last_name tiene 0 nulos\n",
      "La columna email tiene 0 nulos\n",
      "La columna gender tiene 0 nulos\n",
      "La columna city tiene 0 nulos\n",
      "La columna country tiene 0 nulos\n",
      "La columna address tiene 0 nulos\n"
     ]
    }
   ],
   "source": [
    "for col in df_clientes.columns:\n",
    "    print(f\"La columna {col} tiene {df_clientes[col].isna().sum()} nulos\")"
   ]
  },
  {
   "cell_type": "code",
   "execution_count": 21,
   "metadata": {},
   "outputs": [
    {
     "name": "stdout",
     "output_type": "stream",
     "text": [
      "La columna first_name tiene 60 duplicados\n",
      "La columna last_name tiene 14 duplicados\n",
      "La columna email tiene 26 duplicados\n",
      "La columna gender tiene 991 duplicados\n",
      "La columna city tiene 944 duplicados\n",
      "La columna country tiene 999 duplicados\n",
      "La columna address tiene 41 duplicados\n"
     ]
    }
   ],
   "source": [
    "for col in df_clientes.columns:\n",
    "    print(f\"La columna {col} tiene {df_clientes[col].duplicated().sum()} duplicados\")"
   ]
  },
  {
   "cell_type": "markdown",
   "metadata": {},
   "source": [
    "Los duplicados de email y de address son por los \"Unknown\" cumputados por los nulos."
   ]
  },
  {
   "cell_type": "code",
   "execution_count": 22,
   "metadata": {},
   "outputs": [
    {
     "data": {
      "text/html": [
       "<div>\n",
       "<style scoped>\n",
       "    .dataframe tbody tr th:only-of-type {\n",
       "        vertical-align: middle;\n",
       "    }\n",
       "\n",
       "    .dataframe tbody tr th {\n",
       "        vertical-align: top;\n",
       "    }\n",
       "\n",
       "    .dataframe thead th {\n",
       "        text-align: right;\n",
       "    }\n",
       "</style>\n",
       "<table border=\"1\" class=\"dataframe\">\n",
       "  <thead>\n",
       "    <tr style=\"text-align: right;\">\n",
       "      <th></th>\n",
       "      <th>first_name</th>\n",
       "      <th>last_name</th>\n",
       "      <th>email</th>\n",
       "      <th>gender</th>\n",
       "      <th>city</th>\n",
       "      <th>country</th>\n",
       "      <th>address</th>\n",
       "    </tr>\n",
       "    <tr>\n",
       "      <th>id</th>\n",
       "      <th></th>\n",
       "      <th></th>\n",
       "      <th></th>\n",
       "      <th></th>\n",
       "      <th></th>\n",
       "      <th></th>\n",
       "      <th></th>\n",
       "    </tr>\n",
       "  </thead>\n",
       "  <tbody>\n",
       "    <tr>\n",
       "      <th>8</th>\n",
       "      <td>Aubree</td>\n",
       "      <td>Jirsa</td>\n",
       "      <td>Unknown</td>\n",
       "      <td>Female</td>\n",
       "      <td>Santander</td>\n",
       "      <td>Spain</td>\n",
       "      <td>8294 Schurz Court</td>\n",
       "    </tr>\n",
       "    <tr>\n",
       "      <th>846</th>\n",
       "      <td>Nicolle</td>\n",
       "      <td>Erridge</td>\n",
       "      <td>Unknown</td>\n",
       "      <td>Female</td>\n",
       "      <td>Pontevedra</td>\n",
       "      <td>Spain</td>\n",
       "      <td>7336 Upham Circle</td>\n",
       "    </tr>\n",
       "    <tr>\n",
       "      <th>779</th>\n",
       "      <td>Rozanne</td>\n",
       "      <td>Rolinson</td>\n",
       "      <td>Unknown</td>\n",
       "      <td>Female</td>\n",
       "      <td>Cadiz</td>\n",
       "      <td>Spain</td>\n",
       "      <td>8239 Porter Junction</td>\n",
       "    </tr>\n",
       "    <tr>\n",
       "      <th>733</th>\n",
       "      <td>Lazare</td>\n",
       "      <td>Anderton</td>\n",
       "      <td>Unknown</td>\n",
       "      <td>Other / Prefer not to say</td>\n",
       "      <td>Girona</td>\n",
       "      <td>Spain</td>\n",
       "      <td>16 Grover Point</td>\n",
       "    </tr>\n",
       "    <tr>\n",
       "      <th>666</th>\n",
       "      <td>Micki</td>\n",
       "      <td>Van Der Hoog</td>\n",
       "      <td>Unknown</td>\n",
       "      <td>Female</td>\n",
       "      <td>Barcelona</td>\n",
       "      <td>Spain</td>\n",
       "      <td>4 Hayes Hill</td>\n",
       "    </tr>\n",
       "    <tr>\n",
       "      <th>602</th>\n",
       "      <td>Renaud</td>\n",
       "      <td>Aberkirdo</td>\n",
       "      <td>Unknown</td>\n",
       "      <td>Male</td>\n",
       "      <td>Unknown</td>\n",
       "      <td>Spain</td>\n",
       "      <td>112 Gerald Lane</td>\n",
       "    </tr>\n",
       "    <tr>\n",
       "      <th>601</th>\n",
       "      <td>Cecilia</td>\n",
       "      <td>Lush</td>\n",
       "      <td>Unknown</td>\n",
       "      <td>Female</td>\n",
       "      <td>Malaga</td>\n",
       "      <td>Spain</td>\n",
       "      <td>03819 Mallard Avenue</td>\n",
       "    </tr>\n",
       "    <tr>\n",
       "      <th>593</th>\n",
       "      <td>Noreen</td>\n",
       "      <td>Crann</td>\n",
       "      <td>Unknown</td>\n",
       "      <td>Female</td>\n",
       "      <td>Leon</td>\n",
       "      <td>Spain</td>\n",
       "      <td>875 Lake View Point</td>\n",
       "    </tr>\n",
       "    <tr>\n",
       "      <th>578</th>\n",
       "      <td>Malinda</td>\n",
       "      <td>Baldazzi</td>\n",
       "      <td>Unknown</td>\n",
       "      <td>Agender</td>\n",
       "      <td>Torrevieja</td>\n",
       "      <td>Spain</td>\n",
       "      <td>4079 Westend Parkway</td>\n",
       "    </tr>\n",
       "    <tr>\n",
       "      <th>539</th>\n",
       "      <td>Margalo</td>\n",
       "      <td>Steketee</td>\n",
       "      <td>Unknown</td>\n",
       "      <td>Female</td>\n",
       "      <td>Zamora</td>\n",
       "      <td>Spain</td>\n",
       "      <td>7 Warbler Street</td>\n",
       "    </tr>\n",
       "    <tr>\n",
       "      <th>479</th>\n",
       "      <td>Lana</td>\n",
       "      <td>Kirkbright</td>\n",
       "      <td>Unknown</td>\n",
       "      <td>Female</td>\n",
       "      <td>Pontevedra</td>\n",
       "      <td>Spain</td>\n",
       "      <td>3 Lawn Court</td>\n",
       "    </tr>\n",
       "    <tr>\n",
       "      <th>455</th>\n",
       "      <td>Mateo</td>\n",
       "      <td>Davidovits</td>\n",
       "      <td>Unknown</td>\n",
       "      <td>Male</td>\n",
       "      <td>Santiago De Compostela</td>\n",
       "      <td>Spain</td>\n",
       "      <td>17906 Miller Court</td>\n",
       "    </tr>\n",
       "    <tr>\n",
       "      <th>879</th>\n",
       "      <td>Gabrielle</td>\n",
       "      <td>Iwanczyk</td>\n",
       "      <td>Unknown</td>\n",
       "      <td>Female</td>\n",
       "      <td>Valencia</td>\n",
       "      <td>Spain</td>\n",
       "      <td>01 Onsgard Way</td>\n",
       "    </tr>\n",
       "    <tr>\n",
       "      <th>446</th>\n",
       "      <td>Gerri</td>\n",
       "      <td>Widdowfield</td>\n",
       "      <td>Unknown</td>\n",
       "      <td>Male</td>\n",
       "      <td>Lleida</td>\n",
       "      <td>Spain</td>\n",
       "      <td>61207 Granby Drive</td>\n",
       "    </tr>\n",
       "    <tr>\n",
       "      <th>418</th>\n",
       "      <td>Urban</td>\n",
       "      <td>Mapstone</td>\n",
       "      <td>Unknown</td>\n",
       "      <td>Male</td>\n",
       "      <td>Unknown</td>\n",
       "      <td>Spain</td>\n",
       "      <td>1 Sullivan Circle</td>\n",
       "    </tr>\n",
       "    <tr>\n",
       "      <th>408</th>\n",
       "      <td>Brittne</td>\n",
       "      <td>Weich</td>\n",
       "      <td>Unknown</td>\n",
       "      <td>Genderfluid</td>\n",
       "      <td>Pontevedra</td>\n",
       "      <td>Spain</td>\n",
       "      <td>763 Mayer Lane</td>\n",
       "    </tr>\n",
       "    <tr>\n",
       "      <th>232</th>\n",
       "      <td>Ethelred</td>\n",
       "      <td>Aireton</td>\n",
       "      <td>Unknown</td>\n",
       "      <td>Male</td>\n",
       "      <td>Unknown</td>\n",
       "      <td>Spain</td>\n",
       "      <td>6166 Starling Way</td>\n",
       "    </tr>\n",
       "    <tr>\n",
       "      <th>216</th>\n",
       "      <td>Alva</td>\n",
       "      <td>Gauchier</td>\n",
       "      <td>Unknown</td>\n",
       "      <td>Male</td>\n",
       "      <td>Badajoz</td>\n",
       "      <td>Spain</td>\n",
       "      <td>7 Cherokee Center</td>\n",
       "    </tr>\n",
       "    <tr>\n",
       "      <th>214</th>\n",
       "      <td>Hallsy</td>\n",
       "      <td>Deeney</td>\n",
       "      <td>Unknown</td>\n",
       "      <td>Male</td>\n",
       "      <td>Barcelona</td>\n",
       "      <td>Spain</td>\n",
       "      <td>8684 Crescent Oaks Trail</td>\n",
       "    </tr>\n",
       "    <tr>\n",
       "      <th>212</th>\n",
       "      <td>Darsey</td>\n",
       "      <td>Scargle</td>\n",
       "      <td>Unknown</td>\n",
       "      <td>Female</td>\n",
       "      <td>Coruña, A</td>\n",
       "      <td>Spain</td>\n",
       "      <td>04988 Roxbury Court</td>\n",
       "    </tr>\n",
       "    <tr>\n",
       "      <th>172</th>\n",
       "      <td>Madonna</td>\n",
       "      <td>McClymond</td>\n",
       "      <td>Unknown</td>\n",
       "      <td>Female</td>\n",
       "      <td>Palmas De Gran Canaria, Las</td>\n",
       "      <td>Spain</td>\n",
       "      <td>70142 Prairieview Point</td>\n",
       "    </tr>\n",
       "    <tr>\n",
       "      <th>168</th>\n",
       "      <td>Storm</td>\n",
       "      <td>Musterd</td>\n",
       "      <td>Unknown</td>\n",
       "      <td>Female</td>\n",
       "      <td>Badajoz</td>\n",
       "      <td>Spain</td>\n",
       "      <td>Unknown</td>\n",
       "    </tr>\n",
       "    <tr>\n",
       "      <th>82</th>\n",
       "      <td>Uta</td>\n",
       "      <td>Crasford</td>\n",
       "      <td>Unknown</td>\n",
       "      <td>Female</td>\n",
       "      <td>Lugo</td>\n",
       "      <td>Spain</td>\n",
       "      <td>Unknown</td>\n",
       "    </tr>\n",
       "    <tr>\n",
       "      <th>43</th>\n",
       "      <td>Salmon</td>\n",
       "      <td>Ricciardello</td>\n",
       "      <td>Unknown</td>\n",
       "      <td>Male</td>\n",
       "      <td>Donostia-San Sebastian</td>\n",
       "      <td>Spain</td>\n",
       "      <td>5237 Montana Drive</td>\n",
       "    </tr>\n",
       "    <tr>\n",
       "      <th>17</th>\n",
       "      <td>Yance</td>\n",
       "      <td>Martinetto</td>\n",
       "      <td>Unknown</td>\n",
       "      <td>Male</td>\n",
       "      <td>Pamplona/Iruña</td>\n",
       "      <td>Spain</td>\n",
       "      <td>4 Anthes Pass</td>\n",
       "    </tr>\n",
       "    <tr>\n",
       "      <th>440</th>\n",
       "      <td>Kalila</td>\n",
       "      <td>Goldspink</td>\n",
       "      <td>Unknown</td>\n",
       "      <td>Female</td>\n",
       "      <td>Sevilla</td>\n",
       "      <td>Spain</td>\n",
       "      <td>973 Loomis Avenue</td>\n",
       "    </tr>\n",
       "    <tr>\n",
       "      <th>989</th>\n",
       "      <td>Jermain</td>\n",
       "      <td>Klassmann</td>\n",
       "      <td>Unknown</td>\n",
       "      <td>Other / Prefer not to say</td>\n",
       "      <td>Palma De Mallorca</td>\n",
       "      <td>Spain</td>\n",
       "      <td>8083 Burning Wood Pass</td>\n",
       "    </tr>\n",
       "  </tbody>\n",
       "</table>\n",
       "</div>"
      ],
      "text/plain": [
       "    first_name     last_name    email                     gender  \\\n",
       "id                                                                 \n",
       "8       Aubree         Jirsa  Unknown                     Female   \n",
       "846    Nicolle       Erridge  Unknown                     Female   \n",
       "779    Rozanne      Rolinson  Unknown                     Female   \n",
       "733     Lazare      Anderton  Unknown  Other / Prefer not to say   \n",
       "666      Micki  Van Der Hoog  Unknown                     Female   \n",
       "602     Renaud     Aberkirdo  Unknown                       Male   \n",
       "601    Cecilia          Lush  Unknown                     Female   \n",
       "593     Noreen         Crann  Unknown                     Female   \n",
       "578    Malinda      Baldazzi  Unknown                    Agender   \n",
       "539    Margalo      Steketee  Unknown                     Female   \n",
       "479       Lana    Kirkbright  Unknown                     Female   \n",
       "455      Mateo    Davidovits  Unknown                       Male   \n",
       "879  Gabrielle      Iwanczyk  Unknown                     Female   \n",
       "446      Gerri   Widdowfield  Unknown                       Male   \n",
       "418      Urban      Mapstone  Unknown                       Male   \n",
       "408    Brittne         Weich  Unknown                Genderfluid   \n",
       "232   Ethelred       Aireton  Unknown                       Male   \n",
       "216       Alva      Gauchier  Unknown                       Male   \n",
       "214     Hallsy        Deeney  Unknown                       Male   \n",
       "212     Darsey       Scargle  Unknown                     Female   \n",
       "172    Madonna     McClymond  Unknown                     Female   \n",
       "168      Storm       Musterd  Unknown                     Female   \n",
       "82         Uta      Crasford  Unknown                     Female   \n",
       "43      Salmon  Ricciardello  Unknown                       Male   \n",
       "17       Yance    Martinetto  Unknown                       Male   \n",
       "440     Kalila     Goldspink  Unknown                     Female   \n",
       "989    Jermain     Klassmann  Unknown  Other / Prefer not to say   \n",
       "\n",
       "                            city country                   address  \n",
       "id                                                                  \n",
       "8                      Santander   Spain         8294 Schurz Court  \n",
       "846                   Pontevedra   Spain         7336 Upham Circle  \n",
       "779                        Cadiz   Spain      8239 Porter Junction  \n",
       "733                       Girona   Spain           16 Grover Point  \n",
       "666                    Barcelona   Spain              4 Hayes Hill  \n",
       "602                      Unknown   Spain           112 Gerald Lane  \n",
       "601                       Malaga   Spain      03819 Mallard Avenue  \n",
       "593                         Leon   Spain       875 Lake View Point  \n",
       "578                   Torrevieja   Spain      4079 Westend Parkway  \n",
       "539                       Zamora   Spain          7 Warbler Street  \n",
       "479                   Pontevedra   Spain              3 Lawn Court  \n",
       "455       Santiago De Compostela   Spain        17906 Miller Court  \n",
       "879                     Valencia   Spain            01 Onsgard Way  \n",
       "446                       Lleida   Spain        61207 Granby Drive  \n",
       "418                      Unknown   Spain         1 Sullivan Circle  \n",
       "408                   Pontevedra   Spain            763 Mayer Lane  \n",
       "232                      Unknown   Spain         6166 Starling Way  \n",
       "216                      Badajoz   Spain         7 Cherokee Center  \n",
       "214                    Barcelona   Spain  8684 Crescent Oaks Trail  \n",
       "212                    Coruña, A   Spain       04988 Roxbury Court  \n",
       "172  Palmas De Gran Canaria, Las   Spain   70142 Prairieview Point  \n",
       "168                      Badajoz   Spain                   Unknown  \n",
       "82                          Lugo   Spain                   Unknown  \n",
       "43        Donostia-San Sebastian   Spain        5237 Montana Drive  \n",
       "17                Pamplona/Iruña   Spain             4 Anthes Pass  \n",
       "440                      Sevilla   Spain         973 Loomis Avenue  \n",
       "989            Palma De Mallorca   Spain    8083 Burning Wood Pass  "
      ]
     },
     "execution_count": 22,
     "metadata": {},
     "output_type": "execute_result"
    }
   ],
   "source": [
    "df_clientes[df_clientes.duplicated(subset=[\"email\"], keep=False)].sort_values(\"email\")"
   ]
  },
  {
   "cell_type": "markdown",
   "metadata": {},
   "source": [
    "## Productos"
   ]
  },
  {
   "cell_type": "code",
   "execution_count": 23,
   "metadata": {},
   "outputs": [
    {
     "name": "stdout",
     "output_type": "stream",
     "text": [
      "La columna Nombre_Producto tiene 0 nulos\n",
      "La columna Categoría tiene 0 nulos\n",
      "La columna Precio tiene 0 nulos\n",
      "La columna Origen tiene 0 nulos\n",
      "La columna Descripción tiene 0 nulos\n"
     ]
    }
   ],
   "source": [
    "for col in df_productos.columns:\n",
    "    print(f\"La columna {col} tiene {df_productos[col].isna().sum()} nulos\")"
   ]
  },
  {
   "cell_type": "code",
   "execution_count": 24,
   "metadata": {},
   "outputs": [],
   "source": [
    "df_productos.columns = df_productos.columns.str.lower()"
   ]
  },
  {
   "cell_type": "code",
   "execution_count": 25,
   "metadata": {},
   "outputs": [],
   "source": [
    "#con esto se hace un join de los elementos de una lista nueva que contiene solo aquellos elementos que no son nan\n",
    "df_productos[\"descripción\"] = df_productos[\"descripción\"].apply(lambda x: \",\".join(str(e) for e in x if isinstance(e, str))) "
   ]
  },
  {
   "cell_type": "markdown",
   "metadata": {},
   "source": [
    "Con esto quedarían eliminados los elementos de la lista que eran nulos."
   ]
  },
  {
   "cell_type": "code",
   "execution_count": 26,
   "metadata": {},
   "outputs": [
    {
     "data": {
      "text/plain": [
       "0"
      ]
     },
     "execution_count": 26,
     "metadata": {},
     "output_type": "execute_result"
    }
   ],
   "source": [
    "df_productos.duplicated().sum()"
   ]
  },
  {
   "cell_type": "code",
   "execution_count": 27,
   "metadata": {},
   "outputs": [],
   "source": [
    "#pip install deep_translator"
   ]
  },
  {
   "cell_type": "code",
   "execution_count": 28,
   "metadata": {},
   "outputs": [],
   "source": [
    "# Con esto se traduce el df a inglés, para que esté como los demás. En if del map se especifica que si una celda no es str, no se traduce. Así se evitan errores.\n",
    "\n",
    "from deep_translator import GoogleTranslator\n",
    "\n",
    "df_productos = df_productos.map(lambda x: GoogleTranslator(source=\"es\", target=\"en\").translate(x) if isinstance(x, str) else x)"
   ]
  },
  {
   "cell_type": "code",
   "execution_count": 29,
   "metadata": {},
   "outputs": [],
   "source": [
    "# También traducimos el título de las columnas\n",
    "df_productos.rename({col: GoogleTranslator(source=\"es\", target=\"en\").translate(col).lower() for col in df_productos.columns}, axis=1, inplace=True)"
   ]
  },
  {
   "cell_type": "code",
   "execution_count": 30,
   "metadata": {},
   "outputs": [
    {
     "data": {
      "text/html": [
       "<div>\n",
       "<style scoped>\n",
       "    .dataframe tbody tr th:only-of-type {\n",
       "        vertical-align: middle;\n",
       "    }\n",
       "\n",
       "    .dataframe tbody tr th {\n",
       "        vertical-align: top;\n",
       "    }\n",
       "\n",
       "    .dataframe thead th {\n",
       "        text-align: right;\n",
       "    }\n",
       "</style>\n",
       "<table border=\"1\" class=\"dataframe\">\n",
       "  <thead>\n",
       "    <tr style=\"text-align: right;\">\n",
       "      <th></th>\n",
       "      <th>product name</th>\n",
       "      <th>category</th>\n",
       "      <th>price</th>\n",
       "      <th>origin</th>\n",
       "      <th>description</th>\n",
       "    </tr>\n",
       "    <tr>\n",
       "      <th>ID</th>\n",
       "      <th></th>\n",
       "      <th></th>\n",
       "      <th></th>\n",
       "      <th></th>\n",
       "      <th></th>\n",
       "    </tr>\n",
       "  </thead>\n",
       "  <tbody>\n",
       "    <tr>\n",
       "      <th>A1</th>\n",
       "      <td>Margherita Pizza</td>\n",
       "      <td>Prepared dishes</td>\n",
       "      <td>8.99</td>\n",
       "      <td>Italy</td>\n",
       "      <td>Classic Italian pizza with tomato, fresh mozza...</td>\n",
       "    </tr>\n",
       "    <tr>\n",
       "      <th>B2</th>\n",
       "      <td>Mushroom risotto</td>\n",
       "      <td>Prepared dishes</td>\n",
       "      <td>6.75</td>\n",
       "      <td>Italy</td>\n",
       "      <td>Creamy risotto with fresh mushrooms, an Italia...</td>\n",
       "    </tr>\n",
       "    <tr>\n",
       "      <th>C3</th>\n",
       "      <td>Tiramisú</td>\n",
       "      <td>Desserts</td>\n",
       "      <td>5.49</td>\n",
       "      <td>Italy</td>\n",
       "      <td>Italian classic dessert with coffee sponge cak...</td>\n",
       "    </tr>\n",
       "    <tr>\n",
       "      <th>D4</th>\n",
       "      <td>Panettone</td>\n",
       "      <td>Confectionery</td>\n",
       "      <td>10.99</td>\n",
       "      <td>Italy</td>\n",
       "      <td>Italian Christmas sweet bread with fruits conf...</td>\n",
       "    </tr>\n",
       "    <tr>\n",
       "      <th>E5</th>\n",
       "      <td>Orechiette</td>\n",
       "      <td>Dry products</td>\n",
       "      <td>4.29</td>\n",
       "      <td>Italy</td>\n",
       "      <td>Small pastes shaped like oecchiette ideal for ...</td>\n",
       "    </tr>\n",
       "  </tbody>\n",
       "</table>\n",
       "</div>"
      ],
      "text/plain": [
       "        product name         category  price origin  \\\n",
       "ID                                                    \n",
       "A1  Margherita Pizza  Prepared dishes   8.99  Italy   \n",
       "B2  Mushroom risotto  Prepared dishes   6.75  Italy   \n",
       "C3          Tiramisú         Desserts   5.49  Italy   \n",
       "D4         Panettone    Confectionery  10.99  Italy   \n",
       "E5        Orechiette     Dry products   4.29  Italy   \n",
       "\n",
       "                                          description  \n",
       "ID                                                     \n",
       "A1  Classic Italian pizza with tomato, fresh mozza...  \n",
       "B2  Creamy risotto with fresh mushrooms, an Italia...  \n",
       "C3  Italian classic dessert with coffee sponge cak...  \n",
       "D4  Italian Christmas sweet bread with fruits conf...  \n",
       "E5  Small pastes shaped like oecchiette ideal for ...  "
      ]
     },
     "execution_count": 30,
     "metadata": {},
     "output_type": "execute_result"
    }
   ],
   "source": [
    "df_productos.head()"
   ]
  },
  {
   "cell_type": "markdown",
   "metadata": {},
   "source": [
    "## Ventas"
   ]
  },
  {
   "cell_type": "code",
   "execution_count": 31,
   "metadata": {},
   "outputs": [
    {
     "name": "stdout",
     "output_type": "stream",
     "text": [
      "La columna ID_Producto tiene 0 nulos\n",
      "La columna Fecha_Venta tiene 0 nulos\n",
      "La columna Cantidad tiene 0 nulos\n",
      "La columna Total tiene 0 nulos\n"
     ]
    }
   ],
   "source": [
    "for col in df_ventas.columns:\n",
    "    print(f\"La columna {col} tiene {df_ventas[col].isna().sum()} nulos\")"
   ]
  },
  {
   "cell_type": "code",
   "execution_count": 32,
   "metadata": {},
   "outputs": [
    {
     "data": {
      "text/plain": [
       "0"
      ]
     },
     "execution_count": 32,
     "metadata": {},
     "output_type": "execute_result"
    }
   ],
   "source": [
    "df_ventas.duplicated().sum()"
   ]
  },
  {
   "cell_type": "code",
   "execution_count": 36,
   "metadata": {},
   "outputs": [],
   "source": [
    "df_ventas.rename({col: GoogleTranslator(source=\"es\", target=\"en\").translate(col).lower() for col in df_ventas.columns}, axis=1, inplace=True)"
   ]
  },
  {
   "cell_type": "markdown",
   "metadata": {},
   "source": [
    "# Unión de los DataFrames"
   ]
  },
  {
   "cell_type": "code",
   "execution_count": 37,
   "metadata": {},
   "outputs": [
    {
     "data": {
      "text/html": [
       "<div>\n",
       "<style scoped>\n",
       "    .dataframe tbody tr th:only-of-type {\n",
       "        vertical-align: middle;\n",
       "    }\n",
       "\n",
       "    .dataframe tbody tr th {\n",
       "        vertical-align: top;\n",
       "    }\n",
       "\n",
       "    .dataframe thead th {\n",
       "        text-align: right;\n",
       "    }\n",
       "</style>\n",
       "<table border=\"1\" class=\"dataframe\">\n",
       "  <thead>\n",
       "    <tr style=\"text-align: right;\">\n",
       "      <th></th>\n",
       "      <th>product name</th>\n",
       "      <th>category</th>\n",
       "      <th>price</th>\n",
       "      <th>origin</th>\n",
       "      <th>description</th>\n",
       "    </tr>\n",
       "    <tr>\n",
       "      <th>ID</th>\n",
       "      <th></th>\n",
       "      <th></th>\n",
       "      <th></th>\n",
       "      <th></th>\n",
       "      <th></th>\n",
       "    </tr>\n",
       "  </thead>\n",
       "  <tbody>\n",
       "    <tr>\n",
       "      <th>A1</th>\n",
       "      <td>Margherita Pizza</td>\n",
       "      <td>Prepared dishes</td>\n",
       "      <td>8.99</td>\n",
       "      <td>Italy</td>\n",
       "      <td>Classic Italian pizza with tomato, fresh mozza...</td>\n",
       "    </tr>\n",
       "    <tr>\n",
       "      <th>B2</th>\n",
       "      <td>Mushroom risotto</td>\n",
       "      <td>Prepared dishes</td>\n",
       "      <td>6.75</td>\n",
       "      <td>Italy</td>\n",
       "      <td>Creamy risotto with fresh mushrooms, an Italia...</td>\n",
       "    </tr>\n",
       "    <tr>\n",
       "      <th>C3</th>\n",
       "      <td>Tiramisú</td>\n",
       "      <td>Desserts</td>\n",
       "      <td>5.49</td>\n",
       "      <td>Italy</td>\n",
       "      <td>Italian classic dessert with coffee sponge cak...</td>\n",
       "    </tr>\n",
       "    <tr>\n",
       "      <th>D4</th>\n",
       "      <td>Panettone</td>\n",
       "      <td>Confectionery</td>\n",
       "      <td>10.99</td>\n",
       "      <td>Italy</td>\n",
       "      <td>Italian Christmas sweet bread with fruits conf...</td>\n",
       "    </tr>\n",
       "    <tr>\n",
       "      <th>E5</th>\n",
       "      <td>Orechiette</td>\n",
       "      <td>Dry products</td>\n",
       "      <td>4.29</td>\n",
       "      <td>Italy</td>\n",
       "      <td>Small pastes shaped like oecchiette ideal for ...</td>\n",
       "    </tr>\n",
       "  </tbody>\n",
       "</table>\n",
       "</div>"
      ],
      "text/plain": [
       "        product name         category  price origin  \\\n",
       "ID                                                    \n",
       "A1  Margherita Pizza  Prepared dishes   8.99  Italy   \n",
       "B2  Mushroom risotto  Prepared dishes   6.75  Italy   \n",
       "C3          Tiramisú         Desserts   5.49  Italy   \n",
       "D4         Panettone    Confectionery  10.99  Italy   \n",
       "E5        Orechiette     Dry products   4.29  Italy   \n",
       "\n",
       "                                          description  \n",
       "ID                                                     \n",
       "A1  Classic Italian pizza with tomato, fresh mozza...  \n",
       "B2  Creamy risotto with fresh mushrooms, an Italia...  \n",
       "C3  Italian classic dessert with coffee sponge cak...  \n",
       "D4  Italian Christmas sweet bread with fruits conf...  \n",
       "E5  Small pastes shaped like oecchiette ideal for ...  "
      ]
     },
     "metadata": {},
     "output_type": "display_data"
    },
    {
     "data": {
      "text/html": [
       "<div>\n",
       "<style scoped>\n",
       "    .dataframe tbody tr th:only-of-type {\n",
       "        vertical-align: middle;\n",
       "    }\n",
       "\n",
       "    .dataframe tbody tr th {\n",
       "        vertical-align: top;\n",
       "    }\n",
       "\n",
       "    .dataframe thead th {\n",
       "        text-align: right;\n",
       "    }\n",
       "</style>\n",
       "<table border=\"1\" class=\"dataframe\">\n",
       "  <thead>\n",
       "    <tr style=\"text-align: right;\">\n",
       "      <th></th>\n",
       "      <th>first_name</th>\n",
       "      <th>last_name</th>\n",
       "      <th>email</th>\n",
       "      <th>gender</th>\n",
       "      <th>city</th>\n",
       "      <th>country</th>\n",
       "      <th>address</th>\n",
       "    </tr>\n",
       "    <tr>\n",
       "      <th>id</th>\n",
       "      <th></th>\n",
       "      <th></th>\n",
       "      <th></th>\n",
       "      <th></th>\n",
       "      <th></th>\n",
       "      <th></th>\n",
       "      <th></th>\n",
       "    </tr>\n",
       "  </thead>\n",
       "  <tbody>\n",
       "    <tr>\n",
       "      <th>1</th>\n",
       "      <td>Cheri</td>\n",
       "      <td>Dunsmore</td>\n",
       "      <td>cdunsmore0@instagram.com</td>\n",
       "      <td>Female</td>\n",
       "      <td>Palma De Mallorca</td>\n",
       "      <td>Spain</td>\n",
       "      <td>076 Rockefeller Crossing</td>\n",
       "    </tr>\n",
       "    <tr>\n",
       "      <th>2</th>\n",
       "      <td>Hunt</td>\n",
       "      <td>Bartomeu</td>\n",
       "      <td>hbartomeu1@nsw.gov.au</td>\n",
       "      <td>Male</td>\n",
       "      <td>Lugo</td>\n",
       "      <td>Spain</td>\n",
       "      <td>0046 Utah Junction</td>\n",
       "    </tr>\n",
       "    <tr>\n",
       "      <th>3</th>\n",
       "      <td>Michaeline</td>\n",
       "      <td>Paynton</td>\n",
       "      <td>mpaynton2@narod.ru</td>\n",
       "      <td>Female</td>\n",
       "      <td>Unknown</td>\n",
       "      <td>Spain</td>\n",
       "      <td>0 Corry Crossing</td>\n",
       "    </tr>\n",
       "    <tr>\n",
       "      <th>4</th>\n",
       "      <td>Filmer</td>\n",
       "      <td>Eirwin</td>\n",
       "      <td>feirwin3@intel.com</td>\n",
       "      <td>Other / Prefer not to say</td>\n",
       "      <td>Leon</td>\n",
       "      <td>Spain</td>\n",
       "      <td>5 American Ash Road</td>\n",
       "    </tr>\n",
       "    <tr>\n",
       "      <th>5</th>\n",
       "      <td>Tanhya</td>\n",
       "      <td>Lubbock</td>\n",
       "      <td>tlubbock4@huffingtonpost.com</td>\n",
       "      <td>Female</td>\n",
       "      <td>Hospitalet De Llobregat, L'</td>\n",
       "      <td>Spain</td>\n",
       "      <td>9289 Merry Circle</td>\n",
       "    </tr>\n",
       "  </tbody>\n",
       "</table>\n",
       "</div>"
      ],
      "text/plain": [
       "    first_name last_name                         email  \\\n",
       "id                                                       \n",
       "1        Cheri  Dunsmore      cdunsmore0@instagram.com   \n",
       "2         Hunt  Bartomeu         hbartomeu1@nsw.gov.au   \n",
       "3   Michaeline   Paynton            mpaynton2@narod.ru   \n",
       "4       Filmer    Eirwin            feirwin3@intel.com   \n",
       "5       Tanhya   Lubbock  tlubbock4@huffingtonpost.com   \n",
       "\n",
       "                       gender                         city country  \\\n",
       "id                                                                   \n",
       "1                      Female            Palma De Mallorca   Spain   \n",
       "2                        Male                         Lugo   Spain   \n",
       "3                      Female                      Unknown   Spain   \n",
       "4   Other / Prefer not to say                         Leon   Spain   \n",
       "5                      Female  Hospitalet De Llobregat, L'   Spain   \n",
       "\n",
       "                     address  \n",
       "id                            \n",
       "1   076 Rockefeller Crossing  \n",
       "2         0046 Utah Junction  \n",
       "3           0 Corry Crossing  \n",
       "4        5 American Ash Road  \n",
       "5          9289 Merry Circle  "
      ]
     },
     "metadata": {},
     "output_type": "display_data"
    },
    {
     "data": {
      "text/html": [
       "<div>\n",
       "<style scoped>\n",
       "    .dataframe tbody tr th:only-of-type {\n",
       "        vertical-align: middle;\n",
       "    }\n",
       "\n",
       "    .dataframe tbody tr th {\n",
       "        vertical-align: top;\n",
       "    }\n",
       "\n",
       "    .dataframe thead th {\n",
       "        text-align: right;\n",
       "    }\n",
       "</style>\n",
       "<table border=\"1\" class=\"dataframe\">\n",
       "  <thead>\n",
       "    <tr style=\"text-align: right;\">\n",
       "      <th></th>\n",
       "      <th>id_product</th>\n",
       "      <th>date_</th>\n",
       "      <th>amount</th>\n",
       "      <th>total</th>\n",
       "    </tr>\n",
       "    <tr>\n",
       "      <th>ID_Cliente</th>\n",
       "      <th></th>\n",
       "      <th></th>\n",
       "      <th></th>\n",
       "      <th></th>\n",
       "    </tr>\n",
       "  </thead>\n",
       "  <tbody>\n",
       "    <tr>\n",
       "      <th>723</th>\n",
       "      <td>A1</td>\n",
       "      <td>2023-11-22</td>\n",
       "      <td>2</td>\n",
       "      <td>17.98</td>\n",
       "    </tr>\n",
       "    <tr>\n",
       "      <th>498</th>\n",
       "      <td>C3</td>\n",
       "      <td>2023-11-21</td>\n",
       "      <td>1</td>\n",
       "      <td>5.49</td>\n",
       "    </tr>\n",
       "    <tr>\n",
       "      <th>121</th>\n",
       "      <td>D4</td>\n",
       "      <td>2023-11-20</td>\n",
       "      <td>3</td>\n",
       "      <td>32.97</td>\n",
       "    </tr>\n",
       "    <tr>\n",
       "      <th>885</th>\n",
       "      <td>L12</td>\n",
       "      <td>2023-11-19</td>\n",
       "      <td>1</td>\n",
       "      <td>6.49</td>\n",
       "    </tr>\n",
       "    <tr>\n",
       "      <th>347</th>\n",
       "      <td>Q17</td>\n",
       "      <td>2023-11-18</td>\n",
       "      <td>2</td>\n",
       "      <td>7.98</td>\n",
       "    </tr>\n",
       "  </tbody>\n",
       "</table>\n",
       "</div>"
      ],
      "text/plain": [
       "           id_product       date_  amount  total\n",
       "ID_Cliente                                      \n",
       "723                A1  2023-11-22       2  17.98\n",
       "498                C3  2023-11-21       1   5.49\n",
       "121                D4  2023-11-20       3  32.97\n",
       "885               L12  2023-11-19       1   6.49\n",
       "347               Q17  2023-11-18       2   7.98"
      ]
     },
     "metadata": {},
     "output_type": "display_data"
    }
   ],
   "source": [
    "display(\n",
    "    df_productos.head(),\n",
    "    df_clientes.head(),\n",
    "    df_ventas.head())"
   ]
  },
  {
   "cell_type": "markdown",
   "metadata": {},
   "source": [
    "Habría que unir:\n",
    "- clientes y ventas por ID_cliente\n",
    "- productos y ventas por id_product \n",
    "\n",
    "En clientes, id es index y en ventas ID_cliente, también lo es \n",
    "\n",
    "En producto ID es index, pero en ventas no "
   ]
  },
  {
   "cell_type": "code",
   "execution_count": 53,
   "metadata": {},
   "outputs": [
    {
     "data": {
      "text/plain": [
       "(100, 11)"
      ]
     },
     "execution_count": 53,
     "metadata": {},
     "output_type": "execute_result"
    }
   ],
   "source": [
    "df_ventas_clientes = df_ventas.join(df_clientes, how='inner').sort_index() #esto devuelve solo los datos de los clientes que están en ventas\n",
    "\n",
    "df_ventas_clientes.shape"
   ]
  },
  {
   "cell_type": "code",
   "execution_count": 54,
   "metadata": {},
   "outputs": [
    {
     "data": {
      "text/html": [
       "<div>\n",
       "<style scoped>\n",
       "    .dataframe tbody tr th:only-of-type {\n",
       "        vertical-align: middle;\n",
       "    }\n",
       "\n",
       "    .dataframe tbody tr th {\n",
       "        vertical-align: top;\n",
       "    }\n",
       "\n",
       "    .dataframe thead th {\n",
       "        text-align: right;\n",
       "    }\n",
       "</style>\n",
       "<table border=\"1\" class=\"dataframe\">\n",
       "  <thead>\n",
       "    <tr style=\"text-align: right;\">\n",
       "      <th></th>\n",
       "      <th>id_product</th>\n",
       "      <th>date_</th>\n",
       "      <th>amount</th>\n",
       "      <th>total</th>\n",
       "      <th>first_name</th>\n",
       "      <th>last_name</th>\n",
       "      <th>email</th>\n",
       "      <th>gender</th>\n",
       "      <th>city</th>\n",
       "      <th>country</th>\n",
       "      <th>address</th>\n",
       "      <th>product name</th>\n",
       "      <th>category</th>\n",
       "      <th>price</th>\n",
       "      <th>origin</th>\n",
       "      <th>description</th>\n",
       "    </tr>\n",
       "    <tr>\n",
       "      <th>ID_Cliente</th>\n",
       "      <th></th>\n",
       "      <th></th>\n",
       "      <th></th>\n",
       "      <th></th>\n",
       "      <th></th>\n",
       "      <th></th>\n",
       "      <th></th>\n",
       "      <th></th>\n",
       "      <th></th>\n",
       "      <th></th>\n",
       "      <th></th>\n",
       "      <th></th>\n",
       "      <th></th>\n",
       "      <th></th>\n",
       "      <th></th>\n",
       "      <th></th>\n",
       "    </tr>\n",
       "  </thead>\n",
       "  <tbody>\n",
       "    <tr>\n",
       "      <th>29</th>\n",
       "      <td>Z26</td>\n",
       "      <td>2023-11-14</td>\n",
       "      <td>2</td>\n",
       "      <td>14.98</td>\n",
       "      <td>Jere</td>\n",
       "      <td>Bampkin</td>\n",
       "      <td>jbampkins@wunderground.com</td>\n",
       "      <td>Male</td>\n",
       "      <td>Jaen</td>\n",
       "      <td>Spain</td>\n",
       "      <td>4478 Mockingbird Avenue</td>\n",
       "      <td>Calzone</td>\n",
       "      <td>Pizzas</td>\n",
       "      <td>7.49</td>\n",
       "      <td>Italy</td>\n",
       "      <td>Closed and baked pizza, stuffed with cheese, t...</td>\n",
       "    </tr>\n",
       "    <tr>\n",
       "      <th>121</th>\n",
       "      <td>D4</td>\n",
       "      <td>2023-11-20</td>\n",
       "      <td>3</td>\n",
       "      <td>32.97</td>\n",
       "      <td>Wye</td>\n",
       "      <td>Sinncock</td>\n",
       "      <td>wsinncock3c@fc2.com</td>\n",
       "      <td>Male</td>\n",
       "      <td>Santander</td>\n",
       "      <td>Spain</td>\n",
       "      <td>4679 Fair Oaks Trail</td>\n",
       "      <td>Panettone</td>\n",
       "      <td>Confectionery</td>\n",
       "      <td>10.99</td>\n",
       "      <td>Italy</td>\n",
       "      <td>Italian Christmas sweet bread with fruits conf...</td>\n",
       "    </tr>\n",
       "    <tr>\n",
       "      <th>123</th>\n",
       "      <td>AU47</td>\n",
       "      <td>2023-10-24</td>\n",
       "      <td>1</td>\n",
       "      <td>5.25</td>\n",
       "      <td>Noreen</td>\n",
       "      <td>Mouncher</td>\n",
       "      <td>nmouncher3e@theguardian.com</td>\n",
       "      <td>Female</td>\n",
       "      <td>Zaragoza</td>\n",
       "      <td>Spain</td>\n",
       "      <td>3 Esker Circle</td>\n",
       "      <td>NaN</td>\n",
       "      <td>NaN</td>\n",
       "      <td>NaN</td>\n",
       "      <td>NaN</td>\n",
       "      <td>NaN</td>\n",
       "    </tr>\n",
       "    <tr>\n",
       "      <th>123</th>\n",
       "      <td>AF32</td>\n",
       "      <td>2023-11-08</td>\n",
       "      <td>2</td>\n",
       "      <td>9.78</td>\n",
       "      <td>Noreen</td>\n",
       "      <td>Mouncher</td>\n",
       "      <td>nmouncher3e@theguardian.com</td>\n",
       "      <td>Female</td>\n",
       "      <td>Zaragoza</td>\n",
       "      <td>Spain</td>\n",
       "      <td>3 Esker Circle</td>\n",
       "      <td>NaN</td>\n",
       "      <td>NaN</td>\n",
       "      <td>NaN</td>\n",
       "      <td>NaN</td>\n",
       "      <td>NaN</td>\n",
       "    </tr>\n",
       "    <tr>\n",
       "      <th>170</th>\n",
       "      <td>U21</td>\n",
       "      <td>2023-11-15</td>\n",
       "      <td>1</td>\n",
       "      <td>5.75</td>\n",
       "      <td>Brigit</td>\n",
       "      <td>Witt</td>\n",
       "      <td>bwitt4p@va.gov</td>\n",
       "      <td>Female</td>\n",
       "      <td>Dos Hermanas</td>\n",
       "      <td>Spain</td>\n",
       "      <td>38 Ohio Point</td>\n",
       "      <td>Salami Tuscan</td>\n",
       "      <td>Embutidos</td>\n",
       "      <td>5.75</td>\n",
       "      <td>Italy</td>\n",
       "      <td>Italian pork salami with herbs and spices, a p...</td>\n",
       "    </tr>\n",
       "  </tbody>\n",
       "</table>\n",
       "</div>"
      ],
      "text/plain": [
       "           id_product       date_  amount  total first_name last_name  \\\n",
       "ID_Cliente                                                              \n",
       "29                Z26  2023-11-14       2  14.98       Jere   Bampkin   \n",
       "121                D4  2023-11-20       3  32.97        Wye  Sinncock   \n",
       "123              AU47  2023-10-24       1   5.25     Noreen  Mouncher   \n",
       "123              AF32  2023-11-08       2   9.78     Noreen  Mouncher   \n",
       "170               U21  2023-11-15       1   5.75     Brigit      Witt   \n",
       "\n",
       "                                  email  gender          city country  \\\n",
       "ID_Cliente                                                              \n",
       "29           jbampkins@wunderground.com    Male          Jaen   Spain   \n",
       "121                 wsinncock3c@fc2.com    Male     Santander   Spain   \n",
       "123         nmouncher3e@theguardian.com  Female      Zaragoza   Spain   \n",
       "123         nmouncher3e@theguardian.com  Female      Zaragoza   Spain   \n",
       "170                      bwitt4p@va.gov  Female  Dos Hermanas   Spain   \n",
       "\n",
       "                            address   product name       category  price  \\\n",
       "ID_Cliente                                                                 \n",
       "29          4478 Mockingbird Avenue        Calzone         Pizzas   7.49   \n",
       "121            4679 Fair Oaks Trail      Panettone  Confectionery  10.99   \n",
       "123                  3 Esker Circle            NaN            NaN    NaN   \n",
       "123                  3 Esker Circle            NaN            NaN    NaN   \n",
       "170                   38 Ohio Point  Salami Tuscan      Embutidos   5.75   \n",
       "\n",
       "           origin                                        description  \n",
       "ID_Cliente                                                            \n",
       "29          Italy  Closed and baked pizza, stuffed with cheese, t...  \n",
       "121         Italy  Italian Christmas sweet bread with fruits conf...  \n",
       "123           NaN                                                NaN  \n",
       "123           NaN                                                NaN  \n",
       "170         Italy  Italian pork salami with herbs and spices, a p...  "
      ]
     },
     "execution_count": 54,
     "metadata": {},
     "output_type": "execute_result"
    }
   ],
   "source": [
    "df_final = df_ventas_clientes.join(df_productos, how='left', on=\"id_product\")\n",
    "\n",
    "df_final.head()"
   ]
  },
  {
   "cell_type": "code",
   "execution_count": 56,
   "metadata": {},
   "outputs": [
    {
     "name": "stdout",
     "output_type": "stream",
     "text": [
      "<class 'pandas.core.frame.DataFrame'>\n",
      "Index: 100 entries, 29 to 987\n",
      "Data columns (total 16 columns):\n",
      " #   Column        Non-Null Count  Dtype  \n",
      "---  ------        --------------  -----  \n",
      " 0   id_product    100 non-null    object \n",
      " 1   date_         100 non-null    object \n",
      " 2   amount        100 non-null    int64  \n",
      " 3   total         100 non-null    float64\n",
      " 4   first_name    100 non-null    object \n",
      " 5   last_name     100 non-null    object \n",
      " 6   email         100 non-null    object \n",
      " 7   gender        100 non-null    object \n",
      " 8   city          100 non-null    object \n",
      " 9   country       100 non-null    object \n",
      " 10  address       100 non-null    object \n",
      " 11  product name  10 non-null     object \n",
      " 12  category      10 non-null     object \n",
      " 13  price         10 non-null     float64\n",
      " 14  origin        10 non-null     object \n",
      " 15  description   10 non-null     object \n",
      "dtypes: float64(2), int64(1), object(13)\n",
      "memory usage: 13.3+ KB\n"
     ]
    }
   ],
   "source": [
    "df_final.info()"
   ]
  },
  {
   "cell_type": "code",
   "execution_count": 65,
   "metadata": {},
   "outputs": [],
   "source": [
    "df_final[\"date_\"] = df_final[\"date_\"].astype(\"datetime64[ns]\")"
   ]
  },
  {
   "cell_type": "code",
   "execution_count": 66,
   "metadata": {},
   "outputs": [
    {
     "name": "stdout",
     "output_type": "stream",
     "text": [
      "<class 'pandas.core.frame.DataFrame'>\n",
      "Index: 100 entries, 29 to 987\n",
      "Data columns (total 16 columns):\n",
      " #   Column        Non-Null Count  Dtype         \n",
      "---  ------        --------------  -----         \n",
      " 0   id_product    100 non-null    object        \n",
      " 1   date_         100 non-null    datetime64[ns]\n",
      " 2   amount        100 non-null    int64         \n",
      " 3   total         100 non-null    float64       \n",
      " 4   first_name    100 non-null    object        \n",
      " 5   last_name     100 non-null    object        \n",
      " 6   email         100 non-null    object        \n",
      " 7   gender        100 non-null    object        \n",
      " 8   city          100 non-null    object        \n",
      " 9   country       100 non-null    object        \n",
      " 10  address       100 non-null    object        \n",
      " 11  product name  10 non-null     object        \n",
      " 12  category      10 non-null     object        \n",
      " 13  price         10 non-null     float64       \n",
      " 14  origin        10 non-null     object        \n",
      " 15  description   10 non-null     object        \n",
      "dtypes: datetime64[ns](1), float64(2), int64(1), object(12)\n",
      "memory usage: 13.3+ KB\n"
     ]
    }
   ],
   "source": [
    "df_final.info()"
   ]
  }
 ],
 "metadata": {
  "kernelspec": {
   "display_name": "base",
   "language": "python",
   "name": "python3"
  },
  "language_info": {
   "codemirror_mode": {
    "name": "ipython",
    "version": 3
   },
   "file_extension": ".py",
   "mimetype": "text/x-python",
   "name": "python",
   "nbconvert_exporter": "python",
   "pygments_lexer": "ipython3",
   "version": "3.12.7"
  }
 },
 "nbformat": 4,
 "nbformat_minor": 2
}
